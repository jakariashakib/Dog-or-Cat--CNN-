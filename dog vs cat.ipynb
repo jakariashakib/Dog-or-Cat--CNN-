{
 "cells": [
  {
   "cell_type": "markdown",
   "id": "d0e9b3f0",
   "metadata": {},
   "source": [
    "# Libraries"
   ]
  },
  {
   "cell_type": "code",
   "execution_count": 1,
   "id": "55411de2",
   "metadata": {
    "ExecuteTime": {
     "end_time": "2021-12-05T19:03:32.241961Z",
     "start_time": "2021-12-05T19:02:39.744796Z"
    }
   },
   "outputs": [],
   "source": [
    "import tensorflow as tf\n",
    "from keras.preprocessing.image import ImageDataGenerator\n",
    "import numpy as np\n",
    "from keras.preprocessing import image\n",
    "import matplotlib.image as mpimg\n",
    "import matplotlib.pyplot as plt"
   ]
  },
  {
   "cell_type": "markdown",
   "id": "003744bf",
   "metadata": {},
   "source": [
    "# Dataset"
   ]
  },
  {
   "cell_type": "markdown",
   "id": "dd81bddb",
   "metadata": {},
   "source": [
    "## Preprocessing the Training set"
   ]
  },
  {
   "cell_type": "code",
   "execution_count": 2,
   "id": "b143f040",
   "metadata": {
    "ExecuteTime": {
     "end_time": "2021-12-05T19:03:32.698412Z",
     "start_time": "2021-12-05T19:03:32.244980Z"
    }
   },
   "outputs": [
    {
     "name": "stdout",
     "output_type": "stream",
     "text": [
      "Found 8000 images belonging to 2 classes.\n"
     ]
    }
   ],
   "source": [
    "train_datagen = ImageDataGenerator(rescale = 1./255,\n",
    "                                   shear_range = 0.2,\n",
    "                                   zoom_range = 0.2,\n",
    "                                   horizontal_flip = True)\n",
    "training_set = train_datagen.flow_from_directory('dataset/training_set',\n",
    "                                                 target_size = (64, 64),\n",
    "                                                 batch_size = 32,\n",
    "                                                 class_mode = 'binary')"
   ]
  },
  {
   "cell_type": "code",
   "execution_count": 3,
   "id": "a195521f",
   "metadata": {
    "ExecuteTime": {
     "end_time": "2021-12-05T19:03:32.714367Z",
     "start_time": "2021-12-05T19:03:32.700397Z"
    }
   },
   "outputs": [],
   "source": [
    "# target_size 150, 150 or 256, 256"
   ]
  },
  {
   "cell_type": "markdown",
   "id": "8904f744",
   "metadata": {},
   "source": [
    "## Preprocessing the Test set"
   ]
  },
  {
   "cell_type": "code",
   "execution_count": 4,
   "id": "2ef7d273",
   "metadata": {
    "ExecuteTime": {
     "end_time": "2021-12-05T19:03:33.397805Z",
     "start_time": "2021-12-05T19:03:32.716368Z"
    }
   },
   "outputs": [
    {
     "name": "stdout",
     "output_type": "stream",
     "text": [
      "Found 2000 images belonging to 2 classes.\n"
     ]
    }
   ],
   "source": [
    "test_datagen = ImageDataGenerator(rescale = 1./255)\n",
    "test_set = test_datagen.flow_from_directory('dataset/test_set',\n",
    "                                            target_size = (64, 64),\n",
    "                                            batch_size = 32,\n",
    "                                            class_mode = 'binary')"
   ]
  },
  {
   "cell_type": "code",
   "execution_count": 5,
   "id": "70b6545d",
   "metadata": {
    "ExecuteTime": {
     "end_time": "2021-12-05T19:03:33.412601Z",
     "start_time": "2021-12-05T19:03:33.398640Z"
    }
   },
   "outputs": [],
   "source": [
    "# target size 150,150 or 256, 256 (same training set)"
   ]
  },
  {
   "cell_type": "markdown",
   "id": "5d07fda0",
   "metadata": {},
   "source": [
    "# Building a Convolutional Neural Network (CNN)"
   ]
  },
  {
   "cell_type": "code",
   "execution_count": 6,
   "id": "359aba80",
   "metadata": {
    "ExecuteTime": {
     "end_time": "2021-12-05T19:03:34.638049Z",
     "start_time": "2021-12-05T19:03:33.413499Z"
    }
   },
   "outputs": [],
   "source": [
    "cnn = tf.keras.models.Sequential()"
   ]
  },
  {
   "cell_type": "markdown",
   "id": "59d706e4",
   "metadata": {},
   "source": [
    "## Convolution"
   ]
  },
  {
   "cell_type": "code",
   "execution_count": 7,
   "id": "00c2ec5e",
   "metadata": {
    "ExecuteTime": {
     "end_time": "2021-12-05T19:03:35.442440Z",
     "start_time": "2021-12-05T19:03:34.643054Z"
    }
   },
   "outputs": [],
   "source": [
    "cnn.add(tf.keras.layers.Conv2D(filters=32, kernel_size=3, activation='relu', input_shape=[64, 64, 3]))"
   ]
  },
  {
   "cell_type": "code",
   "execution_count": 8,
   "id": "02921a66",
   "metadata": {
    "ExecuteTime": {
     "end_time": "2021-12-05T19:03:35.472431Z",
     "start_time": "2021-12-05T19:03:35.456439Z"
    }
   },
   "outputs": [],
   "source": [
    "# 64,64 because we used earlier in processing in test and train dataset\n",
    "# has to match\n",
    "# for black images change the last digit 3 into 1\n",
    "# kerner_size = 3 or 5 or 7"
   ]
  },
  {
   "cell_type": "markdown",
   "id": "ca014a52",
   "metadata": {},
   "source": [
    "## Pooling"
   ]
  },
  {
   "cell_type": "code",
   "execution_count": 9,
   "id": "9e0a6adc",
   "metadata": {
    "ExecuteTime": {
     "end_time": "2021-12-05T19:03:35.676026Z",
     "start_time": "2021-12-05T19:03:35.476426Z"
    }
   },
   "outputs": [],
   "source": [
    "cnn.add(tf.keras.layers.MaxPool2D(pool_size=2, strides=2))"
   ]
  },
  {
   "cell_type": "markdown",
   "id": "a0a40422",
   "metadata": {},
   "source": [
    "## Second Convolutional Layer"
   ]
  },
  {
   "cell_type": "code",
   "execution_count": 10,
   "id": "43f62df9",
   "metadata": {
    "ExecuteTime": {
     "end_time": "2021-12-05T19:03:35.893821Z",
     "start_time": "2021-12-05T19:03:35.682025Z"
    }
   },
   "outputs": [],
   "source": [
    "cnn.add(tf.keras.layers.Conv2D(filters=32, kernel_size=3, activation='relu'))\n",
    "cnn.add(tf.keras.layers.MaxPool2D(pool_size=2, strides=2))"
   ]
  },
  {
   "cell_type": "markdown",
   "id": "d9035ce6",
   "metadata": {},
   "source": [
    "## Flattening"
   ]
  },
  {
   "cell_type": "code",
   "execution_count": 11,
   "id": "679dc4e4",
   "metadata": {
    "ExecuteTime": {
     "end_time": "2021-12-05T19:03:36.173497Z",
     "start_time": "2021-12-05T19:03:35.895821Z"
    }
   },
   "outputs": [],
   "source": [
    "cnn.add(tf.keras.layers.Flatten())"
   ]
  },
  {
   "cell_type": "markdown",
   "id": "aca27f1d",
   "metadata": {},
   "source": [
    "## Full Connection"
   ]
  },
  {
   "cell_type": "code",
   "execution_count": 12,
   "id": "b164dece",
   "metadata": {
    "ExecuteTime": {
     "end_time": "2021-12-05T19:03:36.498866Z",
     "start_time": "2021-12-05T19:03:36.179504Z"
    }
   },
   "outputs": [],
   "source": [
    "cnn.add(tf.keras.layers.Dense(units=128, activation='relu'))"
   ]
  },
  {
   "cell_type": "code",
   "execution_count": 13,
   "id": "2e49322c",
   "metadata": {
    "ExecuteTime": {
     "end_time": "2021-12-05T19:03:36.514975Z",
     "start_time": "2021-12-05T19:03:36.500885Z"
    }
   },
   "outputs": [],
   "source": [
    "# hidden neuron = 128"
   ]
  },
  {
   "cell_type": "markdown",
   "id": "8ad2a6d3",
   "metadata": {},
   "source": [
    "## Output Layer"
   ]
  },
  {
   "cell_type": "code",
   "execution_count": 14,
   "id": "2fd3561b",
   "metadata": {
    "ExecuteTime": {
     "end_time": "2021-12-05T19:03:36.701734Z",
     "start_time": "2021-12-05T19:03:36.517226Z"
    }
   },
   "outputs": [],
   "source": [
    "cnn.add(tf.keras.layers.Dense(units=1, activation='sigmoid'))"
   ]
  },
  {
   "cell_type": "markdown",
   "id": "b1535072",
   "metadata": {},
   "source": [
    "# Training  CNN"
   ]
  },
  {
   "cell_type": "markdown",
   "id": "2194a5e0",
   "metadata": {},
   "source": [
    "## Compiling the CNN"
   ]
  },
  {
   "cell_type": "code",
   "execution_count": 15,
   "id": "96ce4384",
   "metadata": {
    "ExecuteTime": {
     "end_time": "2021-12-05T19:03:36.826566Z",
     "start_time": "2021-12-05T19:03:36.704738Z"
    }
   },
   "outputs": [],
   "source": [
    "cnn.compile(optimizer = 'adam', loss = 'binary_crossentropy', metrics = ['accuracy'])"
   ]
  },
  {
   "cell_type": "markdown",
   "id": "e80463c8",
   "metadata": {},
   "source": [
    "## Training the CNN on the Training set and evaluating it on the Test set"
   ]
  },
  {
   "cell_type": "code",
   "execution_count": null,
   "id": "c754dde9",
   "metadata": {
    "ExecuteTime": {
     "start_time": "2021-12-05T19:02:39.794Z"
    }
   },
   "outputs": [
    {
     "name": "stdout",
     "output_type": "stream",
     "text": [
      "Epoch 1/25\n",
      " 63/250 [======>.......................] - ETA: 2:06 - loss: 0.7072 - accuracy: 0.5188"
     ]
    }
   ],
   "source": [
    "cnn.fit(x = training_set, validation_data = test_set, epochs = 25)"
   ]
  },
  {
   "cell_type": "markdown",
   "id": "73e8f94c",
   "metadata": {},
   "source": [
    "# Prediction"
   ]
  },
  {
   "cell_type": "code",
   "execution_count": null,
   "id": "836778fe",
   "metadata": {
    "ExecuteTime": {
     "start_time": "2021-12-05T19:02:39.797Z"
    }
   },
   "outputs": [],
   "source": [
    "test_image = image.load_img('dataset/single_prediction/cat_or_dog_1.jpg', target_size = (64, 64))\n",
    "test_image = image.img_to_array(test_image)\n",
    "test_image = np.expand_dims(test_image, axis = 0)\n",
    "result = cnn.predict(test_image)\n",
    "training_set.class_indices\n",
    "if result[0][0] == 1:\n",
    "    prediction = 'dog'\n",
    "else:\n",
    "    prediction = 'cat'\n",
    "    \n",
    "print(prediction)\n",
    "\n",
    "# if result[0][0] > 0.5:\n",
    "#         prediction = ‘dog’"
   ]
  },
  {
   "cell_type": "code",
   "execution_count": null,
   "id": "e590fa77",
   "metadata": {
    "ExecuteTime": {
     "start_time": "2021-12-05T19:02:39.799Z"
    }
   },
   "outputs": [],
   "source": [
    "# train and set er sime same same hote hbe 64, 64\n",
    "# result first 0 means batch\n",
    "# scond 0 pic er index"
   ]
  },
  {
   "cell_type": "code",
   "execution_count": null,
   "id": "cde10fe2",
   "metadata": {
    "ExecuteTime": {
     "start_time": "2021-12-05T19:02:39.800Z"
    }
   },
   "outputs": [],
   "source": [
    "img=mpimg.imread('dataset/single_prediction/cat_or_dog_1.jpg')\n",
    "plt.figure(figsize=(20, 20))\n",
    "plt.axis('off')\n",
    "plt.imshow(img)"
   ]
  }
 ],
 "metadata": {
  "kernelspec": {
   "display_name": "Python 3",
   "language": "python",
   "name": "python3"
  },
  "language_info": {
   "codemirror_mode": {
    "name": "ipython",
    "version": 3
   },
   "file_extension": ".py",
   "mimetype": "text/x-python",
   "name": "python",
   "nbconvert_exporter": "python",
   "pygments_lexer": "ipython3",
   "version": "3.8.8"
  }
 },
 "nbformat": 4,
 "nbformat_minor": 5
}
